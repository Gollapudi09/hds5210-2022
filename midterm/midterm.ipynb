{
 "cells": [
  {
   "cell_type": "markdown",
   "metadata": {},
   "source": [
    "# HDS5210-2022 Fall Midterm\n",
    "\n",
    "In the midterm exercise, you're going to use all the programming and data management skills you've developed so far to build a pricing calculator that will calculate how much money should be reimbursed for the visits in a CSV file. To do this, you will need to get allowed amounts (aka rates) from a JSON file, apply some special rules, and then calculate various totals by hospital or by month.\n",
    "\n",
    "Each step of the midterm will build up to form your final solution. Along the way, I've provided plenty of test cases to make sure you're getting each step correct.\n",
    "\n",
    "All functions require docstrings with a description and at least one test case.\n",
    "\n",
    "The midterm is due Monday, October 24th at 11:59 PM CST.\n",
    "\n",
    "---"
   ]
  },
  {
   "cell_type": "markdown",
   "metadata": {},
   "source": [
    "## Step 1: Average Rate\n",
    "\n",
    "With the `/data/negotiated_rates.json` file as input for your first function, read all the `allowed_amount` attributes and calculate an average allowed amount over all rates in the file.\n",
    "\n",
    "Your function should be named **average_rate()**, take the file's name as it's input parameter, and return a float as the result.\n",
    "\n",
    "**ROUND YOUR ANSWER TO 2 DECIMAL PLACES**"
   ]
  },
  {
   "cell_type": "code",
   "execution_count": 42,
   "metadata": {},
   "outputs": [],
   "source": [
    "import json\n",
    "with open (\"/data/negotiated_rates.json\") as f:\n",
    "    data=json.load(f)\n",
    "def average_rate(file):\n",
    "    \"\"\"(file) -> (float)\n",
    "       This function reads all the permitted amounts attributes from the data using a file as its input.\n",
    "       The average of the permitted amounts is then determined by adding up all the rates and dividing that sum by the number of rates.\n",
    "       \n",
    "       >>> average_rate('/data/negotiated_rates.json')\n",
    "       38.67\n",
    "    \"\"\"\n",
    "    \n",
    "    rates=[]\n",
    "    count=0\n",
    "    for out_of_network in data['out_of_network']:\n",
    "        for allowed_amounts in out_of_network['allowed_amounts']:\n",
    "            count +=1\n",
    "            rates.append(allowed_amounts['payments']['allowed_amount'])\n",
    "            total_rates= sum(rates)/(count)\n",
    "            \n",
    "    return round(total_rates,2)"
   ]
  },
  {
   "cell_type": "code",
   "execution_count": 43,
   "metadata": {},
   "outputs": [],
   "source": [
    "assert(average_rate('/data/negotiated_rates.json') == 38.67)"
   ]
  },
  {
   "cell_type": "code",
   "execution_count": 44,
   "metadata": {},
   "outputs": [
    {
     "name": "stdout",
     "output_type": "stream",
     "text": [
      "Finding tests in NoName\n",
      "Trying:\n",
      "    average_rate('/data/negotiated_rates.json')\n",
      "Expecting:\n",
      "    38.67\n",
      "ok\n"
     ]
    }
   ],
   "source": [
    "import doctest\n",
    "doctest.run_docstring_examples(average_rate, globals(), verbose=True)"
   ]
  },
  {
   "cell_type": "markdown",
   "metadata": {},
   "source": [
    "---\n",
    "\n",
    "## Step 2: Rate for a Billing Code / Service Code Combination\n",
    "\n",
    "For the next step, we need to be able to look up the allowed amount for any given billing code / service code combination.\n",
    "\n",
    "In this data, the billing code represents the service or procedure that was provided. The service code represents the type of site where the service was provided.\n",
    "\n",
    "Your function should be named **get_rate()** and take three parameters: the JSON file name, the billing code, and the service code. If your code can't find that combination in the file, it should return None."
   ]
  },
  {
   "cell_type": "code",
   "execution_count": 60,
   "metadata": {},
   "outputs": [],
   "source": [
    "import json\n",
    "with open (\"/data/negotiated_rates.json\") as f:\n",
    "    data=json.load(f)\n",
    "def get_rate(file, billing_code, service_code):\n",
    "    \"\"\"(file,str,int) ->float\n",
    "        The JSON file, the billing code, and the service code are the three inputs for this function.\n",
    "        Each billing code identifies the method offered, and each service code identifies the kind of service offered.\n",
    "        Combining these yields the permitted amount for these specific billing codes and service codes is given as output.\n",
    "        It should return none if the combination cannot be found.\n",
    "        \n",
    "        >>> get_rate('/data/negotiated_rates.json','G0283','11')\n",
    "        8.78\n",
    "        >>> get_rate('/data/negotiated_rates.json','97140','11') \n",
    "        20.03\n",
    "        >>> get_rate('/data/negotiated_rates.json','97110','12')\n",
    "        26.62\n",
    "    \"\"\"\n",
    "    \n",
    "    for out_of_network in data['out_of_network']:\n",
    "        if out_of_network[\"billing_code\"] == billing_code:\n",
    "            for allowed_amounts in out_of_network['allowed_amounts']:\n",
    "                if allowed_amounts[\"service_code\"] == service_code:\n",
    "                    return(allowed_amounts['payments']['allowed_amount'])\n",
    "                else:\n",
    "                     None\n",
    "\n",
    "    "
   ]
  },
  {
   "cell_type": "code",
   "execution_count": 61,
   "metadata": {},
   "outputs": [],
   "source": [
    "assert (get_rate('/data/negotiated_rates.json','G0283','11') == 8.78)\n",
    "assert (get_rate('/data/negotiated_rates.json','97140','11') == 20.03)\n",
    "assert (get_rate('/data/negotiated_rates.json','97110','12') == 26.62)"
   ]
  },
  {
   "cell_type": "code",
   "execution_count": 50,
   "metadata": {},
   "outputs": [
    {
     "name": "stdout",
     "output_type": "stream",
     "text": [
      "Finding tests in NoName\n",
      "Trying:\n",
      "    get_rate('/data/negotiated_rates.json','G0283','11')\n",
      "Expecting:\n",
      "    8.78\n",
      "ok\n",
      "Trying:\n",
      "    get_rate('/data/negotiated_rates.json','97140','11') \n",
      "Expecting:\n",
      "    20.03\n",
      "ok\n",
      "Trying:\n",
      "    get_rate('/data/negotiated_rates.json','97110','12')\n",
      "Expecting:\n",
      "    26.62\n",
      "ok\n"
     ]
    }
   ],
   "source": [
    "import doctest\n",
    "doctest.run_docstring_examples(get_rate, globals(), verbose=True)"
   ]
  },
  {
   "cell_type": "markdown",
   "metadata": {},
   "source": [
    "---\n",
    "\n",
    "## Part 3: Special Rules for Rates\n",
    "\n",
    "There are some special rules for adjusting rates depending on a patient's age and the day of week.  (These are made up. Not from the real world.) In the next part of the midterm, you'll need to create a function that applies these extra rules to a rate and return the adjusted value.\n",
    "\n",
    "1. If the day of week is Monday, charge only 75% of the allowed amount.\n",
    "2. If the patient's age is 65 or higher, charge only 50% of the allowed amount.\n",
    "3. If's both Monday and the patient's age is 65 or higher, charge only 50% of the allowed amount.\n",
    "4. If neither of these conditions are true, charge the whole amount.\n",
    "\n",
    "Your function should be named **get_adjusted_rate()** and take five parameters: file name, billing code, service code, patient age, and visit date.  Your function should return the adjusted rate (based on the rules above) or None if the rate couldn't be found in the file.\n",
    "\n",
    "Note that your function will take a date in the form `%Y-%m-%d` ([see datetime.strptime()](https://docs.python.org/3/library/datetime.html#datetime.datetime.strptime)) and will need to calculate the [day of week](https://docs.python.org/3/library/datetime.html#datetime.date.weekday).\n",
    "\n",
    "**ROUND YOUR ANSWER TO 2 DECIMAL PLACES**"
   ]
  },
  {
   "cell_type": "code",
   "execution_count": 51,
   "metadata": {},
   "outputs": [],
   "source": [
    "from datetime import datetime\n",
    "\n",
    "def get_adjusted_rate(file, billing_code, service_code, pat_age, visit_date):\n",
    "    \"\"\"\"(file,str,int,int,str) -> float\n",
    "        The function provides modified rates based on patient age and day of the week using five parameters as inputs: file name, billing code, service code, patient age, and visit date.\n",
    "        It determines the adjusted rates using the following guidelines:\n",
    "        If it's Monday and the patient is over 65, 50% of the permitted amount will be charged.\n",
    "        If the patient is above 65, 50% of the permitted amount is charged.\n",
    "        On Mondays, 75% of the permitted amount is charged.\n",
    "        If neither of the conditions is met, the whole sum is charged.\n",
    "        This function will take up the date in the form of %Y-%m-%d from datetime.strptime \n",
    "        and the day of the week is calculated as an integer, where Monday is 0 and Sunday is 6.\n",
    "        \n",
    "        >>> get_adjusted_rate('/data/negotiated_rates.json','G0283','11',22,'2022-01-07')\n",
    "        8.78\n",
    "        >>> get_adjusted_rate('/data/negotiated_rates.json','G0283','11',22,'2022-01-03')\n",
    "        6.58\n",
    "    \"\"\"\n",
    "     \n",
    "    for out_of_network in data['out_of_network']:\n",
    "        if out_of_network[\"billing_code\"] == billing_code:\n",
    "            for allowed_amounts in out_of_network['allowed_amounts']:\n",
    "                if allowed_amounts[\"service_code\"] == service_code:\n",
    "                    day = datetime.strptime(visit_date,\"%Y-%m-%d\").weekday()\n",
    "                    if day== 0 and pat_age >= 65:\n",
    "                        amount_charge= 0.5* allowed_amounts['payments']['allowed_amount']\n",
    "                        return (round(amount_charge,2))\n",
    "                    elif pat_age >= 65:\n",
    "                        amount_charge= 0.5* allowed_amounts['payments']['allowed_amount']\n",
    "                        return (round(amount_charge,2))\n",
    "                    elif day== 0:\n",
    "                        amount_charge= 0.75* allowed_amounts['payments']['allowed_amount']\n",
    "                        return (round(amount_charge,2))\n",
    "                    else:\n",
    "                        return(allowed_amounts['payments']['allowed_amount'])\n",
    "                        \n",
    "                \n",
    "            \n",
    "            \n",
    "            "
   ]
  },
  {
   "cell_type": "code",
   "execution_count": 52,
   "metadata": {},
   "outputs": [],
   "source": [
    "assert (get_adjusted_rate('/data/negotiated_rates.json','G0283','11',22,'2022-01-07') == 8.78)\n",
    "assert (get_adjusted_rate('/data/negotiated_rates.json','G0283','11',22,'2022-01-03') == 6.58)\n",
    "assert (get_adjusted_rate('/data/negotiated_rates.json','G0283','11',76,'2022-01-03') == 4.39)\n",
    "assert (get_adjusted_rate('/data/negotiated_rates.json','G0283','11',76,'2022-01-08') == 4.39)"
   ]
  },
  {
   "cell_type": "code",
   "execution_count": 53,
   "metadata": {},
   "outputs": [
    {
     "name": "stdout",
     "output_type": "stream",
     "text": [
      "Finding tests in NoName\n",
      "Trying:\n",
      "    get_adjusted_rate('/data/negotiated_rates.json','G0283','11',22,'2022-01-07')\n",
      "Expecting:\n",
      "    8.78\n",
      "ok\n",
      "Trying:\n",
      "    get_adjusted_rate('/data/negotiated_rates.json','G0283','11',22,'2022-01-03')\n",
      "Expecting:\n",
      "    6.58\n",
      "ok\n"
     ]
    }
   ],
   "source": [
    "import doctest\n",
    "doctest.run_docstring_examples(get_adjusted_rate, globals(), verbose=True)"
   ]
  },
  {
   "cell_type": "markdown",
   "metadata": {},
   "source": [
    "---\n",
    "\n",
    "## Step 4: Calculate total payments for a list of visits\n",
    "\n",
    "Last step, we're going to put your get_adjusted_rate() function to work on a list of visits from a few hospitals in the St. Louis region.\n",
    "\n",
    "Your last function, **summarize_reimbursement()** needs to read an encounter file and the negotiated rates file, compute an adjusted rate for each encounter (row) in the input file, and return two dictionaries of information:\n",
    "1. Total expected reimbursement by month\n",
    "2. Total expected reimbursement by hospital\n",
    "\n",
    "Your should be able to run your function as `by_month, by_hospital = summarize_reimbursement(visits, negotiated_rates)` and have the two answers below:\n",
    "\n",
    "**by_month**\n",
    "```json\n",
    "{\n",
    "    '2021-05': 192.38,\n",
    "    '2021-03': 378.72,\n",
    "    '2021-07': 277.67,\n",
    "    '2021-06': 236.53,\n",
    "    '2021-11': 229.7,\n",
    "    '2021-10': 234.52,\n",
    "    '2021-12': 297.87,\n",
    "    '2021-04': 337.7,\n",
    "    '2021-09': 160.4,\n",
    "    '2021-01': 111.91,\n",
    "    '2021-02': 158.55,\n",
    "    '2021-08': 152.28\n",
    "}\n",
    "```\n",
    "\n",
    "**by_hospital**\n",
    "```json\n",
    "{\n",
    "    'Missouri Baptist': 514.18,\n",
    "    'SSM DePaul': 460.02,\n",
    "    'SLU Hospital': 409.67,\n",
    "    'Barnes Jewish': 485.7,\n",
    "    'Mercy Springfield': 518.59,\n",
    "    'Mercy St. Louis': 380.07\n",
    "}\n",
    "```\n",
    "\n",
    "**Round your totals to 2 decimal places**\n",
    "\n",
    "**If rates are not found, just ignore them**"
   ]
  },
  {
   "cell_type": "code",
   "execution_count": 81,
   "metadata": {},
   "outputs": [],
   "source": [
    "import json\n",
    "import csv\n",
    "from datetime import datetime\n",
    "\n",
    "def summarize_reimbursement(visits,negotiated_rates):\n",
    "    \"\"\"(file) -> dict\n",
    "      The function will take inputs from file and compute an adjusted rate.\n",
    "      The adjusted rate is calculated by matching them to the json parameters i.e billing code,service code,patient age,visit date \n",
    "      and returns two dictionaries.\n",
    "      >>> summarize_reimbursement('/data/visits.csv','/data/negotiated_rates.json')[0]['2021-07'] \n",
    "      277.67\n",
    "      >>> summarize_reimbursement('/data/visits.csv','/data/negotiated_rates.json')[0]['2021-03']\n",
    "      378.72\n",
    "      \"\"\"\n",
    "\n",
    "    rows = []\n",
    "    with open(visits,\"r\") as f:\n",
    "        csv_reader = csv.reader(f)\n",
    "        csv_header = next(csv_reader)\n",
    "        for row in csv_reader:\n",
    "            temp_dict = {}\n",
    "            for k,v in zip(csv_header, row):\n",
    "                temp_dict[k.lower()] = v\n",
    "            rows.append(temp_dict)\n",
    "    by_month = {}\n",
    "    by_hospital = {}\n",
    "    for each_row in rows:\n",
    "        adjusted_rate = get_adjusted_rate(negotiated_rates, each_row['billing_code'], each_row['service_code'], int(each_row['patient_age']), each_row['visit_date'])\n",
    "        visit_month = datetime.strptime(each_row['visit_date'], r\"%Y-%m-%d\").strftime(r\"%Y-%m\")\n",
    "        hospital = each_row[\"hospital\"]\n",
    "        if adjusted_rate != None:\n",
    "            if visit_month in by_month.keys():\n",
    "                by_month[visit_month].append(adjusted_rate)\n",
    "            else:\n",
    "                by_month[visit_month] = [adjusted_rate]\n",
    "            if hospital in by_hospital.keys():\n",
    "                by_hospital[hospital].append(adjusted_rate)\n",
    "            else:\n",
    "                by_hospital[hospital] = [adjusted_rate]\n",
    "    for i in by_month.keys():\n",
    "        by_month[i] = round(sum(by_month[i]), 2)\n",
    "    for i in by_hospital.keys():\n",
    "        by_hospital[i] = round(sum(by_hospital[i]), 2)\n",
    "    return by_month, by_hospital\n",
    "            "
   ]
  },
  {
   "cell_type": "code",
   "execution_count": 82,
   "metadata": {},
   "outputs": [],
   "source": [
    "by_month,by_hospital= summarize_reimbursement('/data/visits.csv','/data/negotiated_rates.json')"
   ]
  },
  {
   "cell_type": "code",
   "execution_count": 83,
   "metadata": {},
   "outputs": [],
   "source": [
    "assert (summarize_reimbursement('/data/visits.csv','/data/negotiated_rates.json')[0]['2021-07'] == 277.67)\n",
    "assert (summarize_reimbursement('/data/visits.csv','/data/negotiated_rates.json')[0]['2021-03'] == 378.72)\n",
    "assert (summarize_reimbursement('/data/visits.csv','/data/negotiated_rates.json')[1]['Mercy St. Louis'] == 380.07)\n",
    "assert (summarize_reimbursement('/data/visits.csv','/data/negotiated_rates.json')[1]['Mercy Springfield'] == 518.59)"
   ]
  },
  {
   "cell_type": "code",
   "execution_count": 84,
   "metadata": {},
   "outputs": [
    {
     "name": "stdout",
     "output_type": "stream",
     "text": [
      "Finding tests in NoName\n",
      "Trying:\n",
      "    summarize_reimbursement('/data/visits.csv','/data/negotiated_rates.json')[0]['2021-07'] \n",
      "Expecting:\n",
      "    277.67\n",
      "ok\n",
      "Trying:\n",
      "    summarize_reimbursement('/data/visits.csv','/data/negotiated_rates.json')[0]['2021-03']\n",
      "Expecting:\n",
      "    378.72\n",
      "ok\n"
     ]
    }
   ],
   "source": [
    "import doctest\n",
    "doctest.run_docstring_examples(summarize_reimbursement, globals(), verbose=True)"
   ]
  },
  {
   "cell_type": "code",
   "execution_count": null,
   "metadata": {},
   "outputs": [],
   "source": []
  }
 ],
 "metadata": {
  "kernelspec": {
   "display_name": "Python 3",
   "language": "python",
   "name": "python3"
  },
  "language_info": {
   "codemirror_mode": {
    "name": "ipython",
    "version": 3
   },
   "file_extension": ".py",
   "mimetype": "text/x-python",
   "name": "python",
   "nbconvert_exporter": "python",
   "pygments_lexer": "ipython3",
   "version": "3.6.7"
  }
 },
 "nbformat": 4,
 "nbformat_minor": 4
}
